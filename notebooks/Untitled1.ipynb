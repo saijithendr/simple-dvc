{
 "cells": [
  {
   "cell_type": "code",
   "execution_count": 1,
   "id": "3ac81098-fd27-42c7-bea9-f82ca1c61c7c",
   "metadata": {},
   "outputs": [
    {
     "data": {
      "text/plain": [
       "'d:\\\\sample project\\\\notebooks'"
      ]
     },
     "execution_count": 1,
     "metadata": {},
     "output_type": "execute_result"
    }
   ],
   "source": [
    "pwd"
   ]
  },
  {
   "cell_type": "code",
   "execution_count": 7,
   "id": "b87f1bbc-11d3-45c1-aa58-d811b1f6f13b",
   "metadata": {},
   "outputs": [
    {
     "ename": "KeyError",
     "evalue": "'metrics.mae'",
     "output_type": "error",
     "traceback": [
      "\u001b[1;31m---------------------------------------------------------------------------\u001b[0m",
      "\u001b[1;31mKeyError\u001b[0m                                  Traceback (most recent call last)",
      "File \u001b[1;32mc:\\ProgramData\\Anaconda3\\envs\\wineq\\lib\\site-packages\\pandas\\core\\indexes\\base.py:3800\u001b[0m, in \u001b[0;36mIndex.get_loc\u001b[1;34m(self, key, method, tolerance)\u001b[0m\n\u001b[0;32m   3799\u001b[0m \u001b[39mtry\u001b[39;00m:\n\u001b[1;32m-> 3800\u001b[0m     \u001b[39mreturn\u001b[39;00m \u001b[39mself\u001b[39;49m\u001b[39m.\u001b[39;49m_engine\u001b[39m.\u001b[39;49mget_loc(casted_key)\n\u001b[0;32m   3801\u001b[0m \u001b[39mexcept\u001b[39;00m \u001b[39mKeyError\u001b[39;00m \u001b[39mas\u001b[39;00m err:\n",
      "File \u001b[1;32mc:\\ProgramData\\Anaconda3\\envs\\wineq\\lib\\site-packages\\pandas\\_libs\\index.pyx:138\u001b[0m, in \u001b[0;36mpandas._libs.index.IndexEngine.get_loc\u001b[1;34m()\u001b[0m\n",
      "File \u001b[1;32mc:\\ProgramData\\Anaconda3\\envs\\wineq\\lib\\site-packages\\pandas\\_libs\\index.pyx:165\u001b[0m, in \u001b[0;36mpandas._libs.index.IndexEngine.get_loc\u001b[1;34m()\u001b[0m\n",
      "File \u001b[1;32mpandas\\_libs\\hashtable_class_helper.pxi:5745\u001b[0m, in \u001b[0;36mpandas._libs.hashtable.PyObjectHashTable.get_item\u001b[1;34m()\u001b[0m\n",
      "File \u001b[1;32mpandas\\_libs\\hashtable_class_helper.pxi:5753\u001b[0m, in \u001b[0;36mpandas._libs.hashtable.PyObjectHashTable.get_item\u001b[1;34m()\u001b[0m\n",
      "\u001b[1;31mKeyError\u001b[0m: 'metrics.mae'",
      "\nThe above exception was the direct cause of the following exception:\n",
      "\u001b[1;31mKeyError\u001b[0m                                  Traceback (most recent call last)",
      "\u001b[1;32md:\\sample project\\notebooks\\Untitled1.ipynb Zelle 2\u001b[0m in \u001b[0;36m<cell line: 47>\u001b[1;34m()\u001b[0m\n\u001b[0;32m     <a href='vscode-notebook-cell:/d%3A/sample%20project/notebooks/Untitled1.ipynb#W1sZmlsZQ%3D%3D?line=27'>28</a>\u001b[0m         pprint(mv, indent\u001b[39m=\u001b[39m\u001b[39m4\u001b[39m)\n\u001b[0;32m     <a href='vscode-notebook-cell:/d%3A/sample%20project/notebooks/Untitled1.ipynb#W1sZmlsZQ%3D%3D?line=29'>30</a>\u001b[0m     \u001b[39m# if mv[\"run_id\"] == lowest_run_id:\u001b[39;00m\n\u001b[0;32m     <a href='vscode-notebook-cell:/d%3A/sample%20project/notebooks/Untitled1.ipynb#W1sZmlsZQ%3D%3D?line=30'>31</a>\u001b[0m     \u001b[39m#        current_version = mv[\"version\"]\u001b[39;00m\n\u001b[0;32m     <a href='vscode-notebook-cell:/d%3A/sample%20project/notebooks/Untitled1.ipynb#W1sZmlsZQ%3D%3D?line=31'>32</a>\u001b[0m     \u001b[39m#        logged_model = mv[\"source\"]\u001b[39;00m\n\u001b[1;32m   (...)\u001b[0m\n\u001b[0;32m     <a href='vscode-notebook-cell:/d%3A/sample%20project/notebooks/Untitled1.ipynb#W1sZmlsZQ%3D%3D?line=43'>44</a>\u001b[0m     \u001b[39m#            stage=\"Staging\"\u001b[39;00m\n\u001b[0;32m     <a href='vscode-notebook-cell:/d%3A/sample%20project/notebooks/Untitled1.ipynb#W1sZmlsZQ%3D%3D?line=44'>45</a>\u001b[0m     \u001b[39m#        )   '''\u001b[39;00m\n\u001b[1;32m---> <a href='vscode-notebook-cell:/d%3A/sample%20project/notebooks/Untitled1.ipynb#W1sZmlsZQ%3D%3D?line=46'>47</a>\u001b[0m log_production_model(\u001b[39m'\u001b[39;49m\u001b[39mparams.yaml\u001b[39;49m\u001b[39m'\u001b[39;49m)\n",
      "\u001b[1;32md:\\sample project\\notebooks\\Untitled1.ipynb Zelle 2\u001b[0m in \u001b[0;36mlog_production_model\u001b[1;34m(config_path)\u001b[0m\n\u001b[0;32m     <a href='vscode-notebook-cell:/d%3A/sample%20project/notebooks/Untitled1.ipynb#W1sZmlsZQ%3D%3D?line=18'>19</a>\u001b[0m mlflow\u001b[39m.\u001b[39mset_registry_uri(remote_server_uri)\n\u001b[0;32m     <a href='vscode-notebook-cell:/d%3A/sample%20project/notebooks/Untitled1.ipynb#W1sZmlsZQ%3D%3D?line=20'>21</a>\u001b[0m runs \u001b[39m=\u001b[39m mlflow\u001b[39m.\u001b[39msearch_runs()\n\u001b[1;32m---> <a href='vscode-notebook-cell:/d%3A/sample%20project/notebooks/Untitled1.ipynb#W1sZmlsZQ%3D%3D?line=21'>22</a>\u001b[0m lowest \u001b[39m=\u001b[39m runs[\u001b[39m\"\u001b[39;49m\u001b[39mmetrics.mae\u001b[39;49m\u001b[39m\"\u001b[39;49m]\u001b[39m.\u001b[39msort_values(ascending\u001b[39m=\u001b[39m\u001b[39mTrue\u001b[39;00m)[\u001b[39m0\u001b[39m]\n\u001b[0;32m     <a href='vscode-notebook-cell:/d%3A/sample%20project/notebooks/Untitled1.ipynb#W1sZmlsZQ%3D%3D?line=22'>23</a>\u001b[0m lowest_run_id \u001b[39m=\u001b[39m runs[runs[\u001b[39m\"\u001b[39m\u001b[39mmetrics.maae\u001b[39m\u001b[39m\"\u001b[39m] \u001b[39m==\u001b[39m lowest][\u001b[39m\"\u001b[39m\u001b[39mrun_id\u001b[39m\u001b[39m\"\u001b[39m][\u001b[39m0\u001b[39m]\n\u001b[0;32m     <a href='vscode-notebook-cell:/d%3A/sample%20project/notebooks/Untitled1.ipynb#W1sZmlsZQ%3D%3D?line=24'>25</a>\u001b[0m client \u001b[39m=\u001b[39m MlflowClient()\n",
      "File \u001b[1;32mc:\\ProgramData\\Anaconda3\\envs\\wineq\\lib\\site-packages\\pandas\\core\\frame.py:3805\u001b[0m, in \u001b[0;36mDataFrame.__getitem__\u001b[1;34m(self, key)\u001b[0m\n\u001b[0;32m   3803\u001b[0m \u001b[39mif\u001b[39;00m \u001b[39mself\u001b[39m\u001b[39m.\u001b[39mcolumns\u001b[39m.\u001b[39mnlevels \u001b[39m>\u001b[39m \u001b[39m1\u001b[39m:\n\u001b[0;32m   3804\u001b[0m     \u001b[39mreturn\u001b[39;00m \u001b[39mself\u001b[39m\u001b[39m.\u001b[39m_getitem_multilevel(key)\n\u001b[1;32m-> 3805\u001b[0m indexer \u001b[39m=\u001b[39m \u001b[39mself\u001b[39;49m\u001b[39m.\u001b[39;49mcolumns\u001b[39m.\u001b[39;49mget_loc(key)\n\u001b[0;32m   3806\u001b[0m \u001b[39mif\u001b[39;00m is_integer(indexer):\n\u001b[0;32m   3807\u001b[0m     indexer \u001b[39m=\u001b[39m [indexer]\n",
      "File \u001b[1;32mc:\\ProgramData\\Anaconda3\\envs\\wineq\\lib\\site-packages\\pandas\\core\\indexes\\base.py:3802\u001b[0m, in \u001b[0;36mIndex.get_loc\u001b[1;34m(self, key, method, tolerance)\u001b[0m\n\u001b[0;32m   3800\u001b[0m     \u001b[39mreturn\u001b[39;00m \u001b[39mself\u001b[39m\u001b[39m.\u001b[39m_engine\u001b[39m.\u001b[39mget_loc(casted_key)\n\u001b[0;32m   3801\u001b[0m \u001b[39mexcept\u001b[39;00m \u001b[39mKeyError\u001b[39;00m \u001b[39mas\u001b[39;00m err:\n\u001b[1;32m-> 3802\u001b[0m     \u001b[39mraise\u001b[39;00m \u001b[39mKeyError\u001b[39;00m(key) \u001b[39mfrom\u001b[39;00m \u001b[39merr\u001b[39;00m\n\u001b[0;32m   3803\u001b[0m \u001b[39mexcept\u001b[39;00m \u001b[39mTypeError\u001b[39;00m:\n\u001b[0;32m   3804\u001b[0m     \u001b[39m# If we have a listlike key, _check_indexing_error will raise\u001b[39;00m\n\u001b[0;32m   3805\u001b[0m     \u001b[39m#  InvalidIndexError. Otherwise we fall through and re-raise\u001b[39;00m\n\u001b[0;32m   3806\u001b[0m     \u001b[39m#  the TypeError.\u001b[39;00m\n\u001b[0;32m   3807\u001b[0m     \u001b[39mself\u001b[39m\u001b[39m.\u001b[39m_check_indexing_error(key)\n",
      "\u001b[1;31mKeyError\u001b[0m: 'metrics.mae'"
     ]
    }
   ],
   "source": [
    "from src.get_data import read_params\n",
    "import mlflow\n",
    "from mlflow.tracking import MlflowClient\n",
    "from pprint import pprint\n",
    "import joblib\n",
    "import os\n",
    "\n",
    "os.chdir('D:\\\\sample project')\n",
    "\n",
    "def log_production_model(config_path):\n",
    "    config = read_params(config_path)\n",
    "\n",
    "    mlflow_config = config[\"mlflow_config\"]\n",
    "\n",
    "    model_name = mlflow_config[\"registered_model_name\"]\n",
    "\n",
    "    remote_server_uri = mlflow_config[\"remote_server_url\"]\n",
    "\n",
    "    mlflow.set_registry_uri(remote_server_uri)\n",
    "\n",
    "    runs = mlflow.search_runs(experiment_ids=1)\n",
    "    lowest = runs[\"metrics.mae\"].sort_values(ascending=True)[0]\n",
    "    lowest_run_id = runs[runs[\"metrics.mae\"] == lowest][\"run_id\"][0]\n",
    "\n",
    "    client = MlflowClient()\n",
    "    for mv in client.search_model_versions(f\"name='{model_name}'\"):\n",
    "        mv = dict(mv)\n",
    "        pprint(mv, indent=4)\n",
    "        \n",
    "    # if mv[\"run_id\"] == lowest_run_id:\n",
    "    #        current_version = mv[\"version\"]\n",
    "    #        logged_model = mv[\"source\"]\n",
    "    #        pprint(mv, indent=4)\n",
    "    #        client.transition_model_version_stage(\n",
    "    #            name=model_name,\n",
    "    #            version=current_version,\n",
    "    #            stage=\"Production\"\n",
    "    #        )\n",
    "    #    else:\n",
    "    #        current_version = mv[\"version\"]\n",
    "    #        client.transition_model_version_stage(\n",
    "    #            name=model_name,\n",
    "    #            version=current_version,\n",
    "    #            stage=\"Staging\"\n",
    "    #        )   '''\n",
    "\n",
    "log_production_model('params.yaml')"
   ]
  },
  {
   "cell_type": "code",
   "execution_count": null,
   "id": "a43bc73f-a9c3-44ed-af90-945617c1778e",
   "metadata": {},
   "outputs": [],
   "source": []
  }
 ],
 "metadata": {
  "kernelspec": {
   "display_name": "Python 3.9.13 ('wineq')",
   "language": "python",
   "name": "python3"
  },
  "language_info": {
   "codemirror_mode": {
    "name": "ipython",
    "version": 3
   },
   "file_extension": ".py",
   "mimetype": "text/x-python",
   "name": "python",
   "nbconvert_exporter": "python",
   "pygments_lexer": "ipython3",
   "version": "3.9.13"
  },
  "vscode": {
   "interpreter": {
    "hash": "612389fba73cf4b45512e17c233cdd929408d9c1ee79eb7a6b0723b19a6538bd"
   }
  }
 },
 "nbformat": 4,
 "nbformat_minor": 5
}
